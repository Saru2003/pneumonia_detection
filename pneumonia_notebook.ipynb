{
 "cells": [
  {
   "cell_type": "code",
   "execution_count": 2,
   "id": "3b844c70",
   "metadata": {},
   "outputs": [],
   "source": [
    "import sagemaker\n",
    "from sagemaker import get_execution_role\n",
    "import bimport tensorflow as tf\n",
    "from tensorflow.keras.models import load_model\n",
    "\n",
    "# Load the Keras .h5 model\n",
    "model = load_model('pneumonia_detection_model.h5')\n",
    "\n",
    "# Export to TensorFlow's SavedModel format\n",
    "model.save('pneumonia_detection_saved_model/1')\n",
    "oto3\n"
   ]
  },
  {
   "cell_type": "code",
   "execution_count": 3,
   "id": "4c11a9f5",
   "metadata": {},
   "outputs": [
    {
     "name": "stdout",
     "output_type": "stream",
     "text": [
      "hello\n"
     ]
    }
   ],
   "source": [
    "print(\"hello\")"
   ]
  },
  {
   "cell_type": "code",
   "execution_count": 4,
   "id": "246bef88",
   "metadata": {},
   "outputs": [
    {
     "name": "stdout",
     "output_type": "stream",
     "text": [
      "ok\n"
     ]
    }
   ],
   "source": [
    "role = get_execution_role()\n",
    "bucket = 'pneumonia-detection-model-bucket'  \n",
    "model_path = 's3://pneumonia-detection-model-bucket/pneumonia_detection_model.h5'\n",
    "print(\"ok\")"
   ]
  },
  {
   "cell_type": "code",
   "execution_count": 6,
   "id": "c78cad8d",
   "metadata": {},
   "outputs": [
    {
     "name": "stdout",
     "output_type": "stream",
     "text": [
      "Model architecture loaded and weights applied successfully.\n",
      "INFO:tensorflow:Assets written to: pneumonia_detection_saved_model/1/assets\n"
     ]
    },
    {
     "name": "stderr",
     "output_type": "stream",
     "text": [
      "INFO:tensorflow:Assets written to: pneumonia_detection_saved_model/1/assets\n"
     ]
    },
    {
     "name": "stdout",
     "output_type": "stream",
     "text": [
      "Model saved in TensorFlow format.\n"
     ]
    }
   ],
   "source": [
    "# import tensorflow as tf\n",
    "# from tensorflow.keras.models import load_model\n",
    "# model = load_model('pneumonia_detection_model.h5')\n",
    "\n",
    "# #export to tensorflow's SavedModel format\n",
    "# model.save('pneumonia_detection_saved_model/1')\n",
    "\n",
    "import tensorflow as tf\n",
    "from tensorflow.keras.models import Sequential\n",
    "from tensorflow.keras.layers import Dense, Conv2D, MaxPool2D, Flatten, Dropout, BatchNormalization\n",
    "\n",
    "# Reconstruct the model architecture\n",
    "def create_model():\n",
    "    model = Sequential()\n",
    "    model.add(Conv2D(32, (3, 3), strides=1, padding='same', activation='relu', input_shape=(150, 150, 1)))\n",
    "    model.add(BatchNormalization())\n",
    "    model.add(MaxPool2D((2, 2), strides=2, padding='same'))\n",
    "\n",
    "    model.add(Conv2D(64, (3, 3), strides=1, padding='same', activation='relu'))\n",
    "    model.add(Dropout(0.1))\n",
    "    model.add(BatchNormalization())\n",
    "    model.add(MaxPool2D((2, 2), strides=2, padding='same'))\n",
    "\n",
    "    model.add(Conv2D(64, (3, 3), strides=1, padding='same', activation='relu'))\n",
    "    model.add(BatchNormalization())\n",
    "    model.add(MaxPool2D((2, 2), strides=2, padding='same'))\n",
    "\n",
    "    model.add(Conv2D(128, (3, 3), strides=1, padding='same', activation='relu'))\n",
    "    model.add(Dropout(0.2))\n",
    "    model.add(BatchNormalization())\n",
    "    model.add(MaxPool2D((2, 2), strides=2, padding='same'))\n",
    "\n",
    "    model.add(Conv2D(256, (3, 3), strides=1, padding='same', activation='relu'))\n",
    "    model.add(Dropout(0.2))\n",
    "    model.add(BatchNormalization())\n",
    "    model.add(MaxPool2D((2, 2), strides=2, padding='same'))\n",
    "\n",
    "    model.add(Flatten())\n",
    "    model.add(Dense(128, activation='relu'))\n",
    "    model.add(Dropout(0.2))\n",
    "    model.add(Dense(1, activation='sigmoid'))\n",
    "\n",
    "    model.compile(optimizer=\"rmsprop\", loss='binary_crossentropy', metrics=['accuracy'])\n",
    "    return model\n",
    "\n",
    "# Load weights from the existing model\n",
    "try:\n",
    "    model = create_model()\n",
    "    model.load_weights('pneumonia_detection_model.h5')\n",
    "    print(\"Model architecture loaded and weights applied successfully.\")\n",
    "except Exception as e:\n",
    "    print(\"Error loading weights:\", e)\n",
    "\n",
    "# Save the model in TensorFlow format\n",
    "if model is not None:\n",
    "    try:\n",
    "        model.save('pneumonia_detection_saved_model/1', save_format='tf')\n",
    "        print(\"Model saved in TensorFlow format.\")\n",
    "    except Exception as e:\n",
    "        print(\"Error saving model:\", e)\n",
    "\n",
    "\n",
    "\n"
   ]
  },
  {
   "cell_type": "code",
   "execution_count": 7,
   "id": "acdce741",
   "metadata": {},
   "outputs": [
    {
     "name": "stdout",
     "output_type": "stream",
     "text": [
      "Model loaded successfully.\n"
     ]
    }
   ],
   "source": [
    "loaded_model = tf.keras.models.load_model('pneumonia_detection_saved_model/1')\n",
    "print(\"Model loaded successfully.\")\n"
   ]
  },
  {
   "cell_type": "code",
   "execution_count": 14,
   "id": "67d638c0",
   "metadata": {},
   "outputs": [
    {
     "name": "stdout",
     "output_type": "stream",
     "text": [
      "1/1 [==============================] - 0s 29ms/step\n",
      "Prediction: [[0.18780714]]\n",
      "hello\n"
     ]
    }
   ],
   "source": [
    "import numpy as np\n",
    "\n",
    "test_image = np.random.rand(1, 150, 150, 1)  # Dummy input; replace with actual image data\n",
    "\n",
    "prediction = loaded_model.predict(test_image)\n",
    "print(f\"Prediction: {prediction}\")\n"
   ]
  },
  {
   "cell_type": "code",
   "execution_count": 17,
   "id": "e4f1dc1f",
   "metadata": {},
   "outputs": [
    {
     "name": "stdout",
     "output_type": "stream",
     "text": [
      "sagemaker.config INFO - Not applying SDK defaults from location: /etc/xdg/sagemaker/config.yaml\n",
      "sagemaker.config INFO - Not applying SDK defaults from location: /home/ec2-user/.config/sagemaker/config.yaml\n",
      "Using image URI: 763104351884.dkr.ecr.eu-north-1.amazonaws.com/tensorflow-inference:2.7.0-cpu\n"
     ]
    }
   ],
   "source": [
    "# import boto3\n",
    "\n",
    "# sagemaker = boto3.client('sagemaker')\n",
    "\n",
    "# model_name = 'pneumonia-detection-model'\n",
    "# s3_model_path = 's3://pneumonia-detection-bucket/pneumonia_detection_saved_model'\n",
    "\n",
    "# response = sagemaker.create_model(\n",
    "#     ModelName=model_name,\n",
    "#     PrimaryContainer={\n",
    "#         'Image': '763104351884.dkr.ecr.eu-north-1.amazonaws.com/tensorflow-inference:latest',\n",
    "#         'ModelDataUrl': s3_model_path,\n",
    "#         'Environment': {\n",
    "#             'SAGEMAKER_PROGRAM': 's3://pneumonia-detection-bucket/inference.py',\n",
    "#             'SAGEMAKER_SUBMIT_DIRECTORY': s3_model_path\n",
    "#         }\n",
    "#     },\n",
    "#     ExecutionRoleArn='arn:aws:iam::205930617574:role/PneumoniaDetection-SageMakerRole'\n",
    "# )\n",
    "\n",
    "# import boto3\n",
    "\n",
    "# # Initialize SageMaker client\n",
    "# sagemaker = boto3.client('sagemaker')\n",
    "\n",
    "# model_name = 'pneumonia-detection-model'\n",
    "# s3_model_path = 's3://pneumonia-detection-bucket/pneumonia_detection_saved_model'\n",
    "\n",
    "# response = sagemaker.create_model(\n",
    "#     ModelName=model_name,\n",
    "#     PrimaryContainer={\n",
    "#         'Image': '763104351884.dkr.ecr.eu-north-1.amazonaws.com/tensorflow-inference:2.16.0-gpu',  # Updated image\n",
    "#         'ModelDataUrl': s3_model_path,\n",
    "#         'Environment': {\n",
    "#             'SAGEMAKER_PROGRAM': 'inference.py',  # This should just be the filename, assuming it's in S3\n",
    "#             'SAGEMAKER_SUBMIT_DIRECTORY': s3_model_path\n",
    "#         }\n",
    "#     },\n",
    "#     ExecutionRoleArn='arn:aws:iam::205930617574:role/PneumoniaDetection-SageMakerRole'\n",
    "# )\n",
    "\n",
    "\n",
    "import sagemaker\n",
    "import boto3\n",
    "\n",
    "# Specify framework and version\n",
    "framework = 'tensorflow'\n",
    "framework_version = '2.7.0'\n",
    "instance_type = 'ml.m5.large'\n",
    "\n",
    "# Retrieve the image URI for TensorFlow\n",
    "image_uri = sagemaker.image_uris.retrieve(\n",
    "    framework=framework,\n",
    "    region='eu-north-1',\n",
    "    version=framework_version,\n",
    "    instance_type=instance_type,\n",
    "    image_scope='inference'  # Use 'training' if you're training the model\n",
    ")\n",
    "\n",
    "print(f\"Using image URI: {image_uri}\")\n",
    "\n"
   ]
  },
  {
   "cell_type": "code",
   "execution_count": 22,
   "id": "1991cc48",
   "metadata": {},
   "outputs": [
    {
     "name": "stdout",
     "output_type": "stream",
     "text": [
      "Model created: arn:aws:sagemaker:eu-north-1:205930617574:model/pneumonia-detection-model\n"
     ]
    }
   ],
   "source": [
    "# Create the model using the retrieved image URI\n",
    "sagemaker_client = boto3.client('sagemaker')\n",
    "\n",
    "model_name = 'pneumonia-detection-model'\n",
    "s3_model_path = 's3://pneumonia-detection-model-bucket/pneumonia_detection_saved_model/pneumonia_detection_saved_model.tar.gz'\n",
    "\n",
    "response = sagemaker_client.create_model(\n",
    "    ModelName=model_name,\n",
    "    PrimaryContainer={\n",
    "        'Image': image_uri,  # Use the dynamically retrieved image URI\n",
    "        'ModelDataUrl': s3_model_path,\n",
    "        'Environment': {\n",
    "            'SAGEMAKER_PROGRAM': 'inference.py',  # Your inference script\n",
    "            'SAGEMAKER_SUBMIT_DIRECTORY': s3_model_path\n",
    "        }\n",
    "    },\n",
    "    ExecutionRoleArn='arn:aws:iam::205930617574:role/PneumoniaDetection-SageMakerRole'\n",
    ")\n",
    "\n",
    "print(\"Model created:\", response['ModelArn'])\n",
    "\n"
   ]
  },
  {
   "cell_type": "code",
   "execution_count": 20,
   "id": "d6144ec1",
   "metadata": {},
   "outputs": [
    {
     "name": "stdout",
     "output_type": "stream",
     "text": [
      "upload failed: ./pneumonia_detection_saved_model.tar.gz to s3://pneumonia-detection-model-bucket/pneumonia_detection_saved_model/pneumonia_detection_saved_model.tar.gz An error occurred (AccessDenied) when calling the PutObject operation: User: arn:aws:sts::205930617574:assumed-role/PneumoniaDetection-SageMakerRole/SageMaker is not authorized to perform: s3:PutObject on resource: \"arn:aws:s3:::pneumonia-detection-model-bucket/pneumonia_detection_saved_model/pneumonia_detection_saved_model.tar.gz\" because no identity-based policy allows the s3:PutObject action\r\n"
     ]
    }
   ],
   "source": [
    "!aws s3 cp pneumonia_detection_saved_model.tar.gz s3://pneumonia-detection-model-bucket/pneumonia_detection_saved_model/"
   ]
  },
  {
   "cell_type": "code",
   "execution_count": 25,
   "id": "15a53ffa",
   "metadata": {},
   "outputs": [
    {
     "name": "stdout",
     "output_type": "stream",
     "text": [
      "Endpoint configuration created: arn:aws:sagemaker:eu-north-1:205930617574:endpoint-config/pneumonia-detection-config\n"
     ]
    }
   ],
   "source": [
    "import boto3\n",
    "\n",
    "sagemaker_client = boto3.client('sagemaker')\n",
    "\n",
    "response = sagemaker_client.create_endpoint_config(\n",
    "    EndpointConfigName='pneumonia-detection-config',\n",
    "    ProductionVariants=[\n",
    "        {\n",
    "            'VariantName': 'AllTraffic',\n",
    "            'ModelName': 'pneumonia-detection-model',\n",
    "            'InstanceType': 'ml.m5.large',  # Choose an appropriate instance type\n",
    "            'InitialInstanceCount': 1,\n",
    "            'InitialVariantWeight': 1\n",
    "        }\n",
    "    ]\n",
    ")\n",
    "print(\"Endpoint configuration created:\", response['EndpointConfigArn'])\n"
   ]
  },
  {
   "cell_type": "code",
   "execution_count": 26,
   "id": "52e0707f",
   "metadata": {},
   "outputs": [
    {
     "name": "stdout",
     "output_type": "stream",
     "text": [
      "Endpoint creation initiated: arn:aws:sagemaker:eu-north-1:205930617574:endpoint/pneumonia-detection-endpoint\n"
     ]
    }
   ],
   "source": [
    "response = sagemaker_client.create_endpoint(\n",
    "    EndpointName='pneumonia-detection-endpoint',\n",
    "    EndpointConfigName='pneumonia-detection-config'\n",
    ")\n",
    "print(\"Endpoint creation initiated:\", response['EndpointArn'])\n"
   ]
  },
  {
   "cell_type": "code",
   "execution_count": 27,
   "id": "acf4909b",
   "metadata": {},
   "outputs": [
    {
     "name": "stdout",
     "output_type": "stream",
     "text": [
      "Endpoint status: Creating\n",
      "Endpoint status: Creating\n",
      "Endpoint status: Creating\n",
      "Endpoint status: Creating\n",
      "Endpoint status: Creating\n",
      "Endpoint status: InService\n",
      "Final endpoint status: InService\n"
     ]
    }
   ],
   "source": [
    "import time\n",
    "\n",
    "while True:\n",
    "    status = sagemaker_client.describe_endpoint(EndpointName='pneumonia-detection-endpoint')['EndpointStatus']\n",
    "    print(\"Endpoint status:\", status)\n",
    "    if status in ['Creating', 'Updating']:\n",
    "        time.sleep(30)  # Wait before checking again\n",
    "    else:\n",
    "        break\n",
    "\n",
    "print(\"Final endpoint status:\", status)\n"
   ]
  },
  {
   "cell_type": "code",
   "execution_count": 35,
   "id": "e1ddc1e7",
   "metadata": {},
   "outputs": [
    {
     "ename": "ModelError",
     "evalue": "An error occurred (ModelError) when calling the InvokeEndpoint operation: Received client error (400) from primary with message \"{\n    \"error\": \"Failed to process element: 0 key: data of 'instances' list. Error: INVALID_ARGUMENT: JSON object: does not have named input: data\"\n}\". See https://eu-north-1.console.aws.amazon.com/cloudwatch/home?region=eu-north-1#logEventViewer:group=/aws/sagemaker/Endpoints/pneumonia-detection-endpoint in account 205930617574 for more information.",
     "output_type": "error",
     "traceback": [
      "\u001b[0;31m---------------------------------------------------------------------------\u001b[0m",
      "\u001b[0;31mModelError\u001b[0m                                Traceback (most recent call last)",
      "Cell \u001b[0;32mIn[35], line 24\u001b[0m\n\u001b[1;32m     21\u001b[0m runtime_client \u001b[38;5;241m=\u001b[39m boto3\u001b[38;5;241m.\u001b[39mclient(\u001b[38;5;124m'\u001b[39m\u001b[38;5;124msagemaker-runtime\u001b[39m\u001b[38;5;124m'\u001b[39m, region_name\u001b[38;5;241m=\u001b[39m\u001b[38;5;124m'\u001b[39m\u001b[38;5;124meu-north-1\u001b[39m\u001b[38;5;124m'\u001b[39m)\n\u001b[1;32m     23\u001b[0m \u001b[38;5;66;03m# Invoke the endpoint\u001b[39;00m\n\u001b[0;32m---> 24\u001b[0m response \u001b[38;5;241m=\u001b[39m \u001b[43mruntime_client\u001b[49m\u001b[38;5;241;43m.\u001b[39;49m\u001b[43minvoke_endpoint\u001b[49m\u001b[43m(\u001b[49m\n\u001b[1;32m     25\u001b[0m \u001b[43m    \u001b[49m\u001b[43mEndpointName\u001b[49m\u001b[38;5;241;43m=\u001b[39;49m\u001b[38;5;124;43m'\u001b[39;49m\u001b[38;5;124;43mpneumonia-detection-endpoint\u001b[39;49m\u001b[38;5;124;43m'\u001b[39;49m\u001b[43m,\u001b[49m\n\u001b[1;32m     26\u001b[0m \u001b[43m    \u001b[49m\u001b[43mContentType\u001b[49m\u001b[38;5;241;43m=\u001b[39;49m\u001b[38;5;124;43m'\u001b[39;49m\u001b[38;5;124;43mapplication/json\u001b[39;49m\u001b[38;5;124;43m'\u001b[39;49m\u001b[43m,\u001b[49m\n\u001b[1;32m     27\u001b[0m \u001b[43m    \u001b[49m\u001b[43mBody\u001b[49m\u001b[38;5;241;43m=\u001b[39;49m\u001b[43mjson\u001b[49m\u001b[38;5;241;43m.\u001b[39;49m\u001b[43mdumps\u001b[49m\u001b[43m(\u001b[49m\u001b[43m{\u001b[49m\u001b[38;5;124;43m'\u001b[39;49m\u001b[38;5;124;43minstances\u001b[39;49m\u001b[38;5;124;43m'\u001b[39;49m\u001b[43m:\u001b[49m\u001b[43m \u001b[49m\u001b[43m[\u001b[49m\u001b[43m{\u001b[49m\u001b[38;5;124;43m'\u001b[39;49m\u001b[38;5;124;43mdata\u001b[39;49m\u001b[38;5;124;43m'\u001b[39;49m\u001b[43m:\u001b[49m\u001b[43m \u001b[49m\u001b[43mimage_array\u001b[49m\u001b[43m}\u001b[49m\u001b[43m]\u001b[49m\u001b[43m}\u001b[49m\u001b[43m)\u001b[49m\n\u001b[1;32m     28\u001b[0m \u001b[43m)\u001b[49m\n\u001b[1;32m     30\u001b[0m \u001b[38;5;66;03m# Read and print the response\u001b[39;00m\n\u001b[1;32m     31\u001b[0m \u001b[38;5;28mprint\u001b[39m(\u001b[38;5;124m\"\u001b[39m\u001b[38;5;124mResponse Status Code:\u001b[39m\u001b[38;5;124m\"\u001b[39m, response[\u001b[38;5;124m'\u001b[39m\u001b[38;5;124mResponseMetadata\u001b[39m\u001b[38;5;124m'\u001b[39m][\u001b[38;5;124m'\u001b[39m\u001b[38;5;124mHTTPStatusCode\u001b[39m\u001b[38;5;124m'\u001b[39m])\n",
      "File \u001b[0;32m~/anaconda3/envs/tensorflow2_p310/lib/python3.10/site-packages/botocore/client.py:569\u001b[0m, in \u001b[0;36mClientCreator._create_api_method.<locals>._api_call\u001b[0;34m(self, *args, **kwargs)\u001b[0m\n\u001b[1;32m    565\u001b[0m     \u001b[38;5;28;01mraise\u001b[39;00m \u001b[38;5;167;01mTypeError\u001b[39;00m(\n\u001b[1;32m    566\u001b[0m         \u001b[38;5;124mf\u001b[39m\u001b[38;5;124m\"\u001b[39m\u001b[38;5;132;01m{\u001b[39;00mpy_operation_name\u001b[38;5;132;01m}\u001b[39;00m\u001b[38;5;124m() only accepts keyword arguments.\u001b[39m\u001b[38;5;124m\"\u001b[39m\n\u001b[1;32m    567\u001b[0m     )\n\u001b[1;32m    568\u001b[0m \u001b[38;5;66;03m# The \"self\" in this scope is referring to the BaseClient.\u001b[39;00m\n\u001b[0;32m--> 569\u001b[0m \u001b[38;5;28;01mreturn\u001b[39;00m \u001b[38;5;28;43mself\u001b[39;49m\u001b[38;5;241;43m.\u001b[39;49m\u001b[43m_make_api_call\u001b[49m\u001b[43m(\u001b[49m\u001b[43moperation_name\u001b[49m\u001b[43m,\u001b[49m\u001b[43m \u001b[49m\u001b[43mkwargs\u001b[49m\u001b[43m)\u001b[49m\n",
      "File \u001b[0;32m~/anaconda3/envs/tensorflow2_p310/lib/python3.10/site-packages/botocore/client.py:1023\u001b[0m, in \u001b[0;36mBaseClient._make_api_call\u001b[0;34m(self, operation_name, api_params)\u001b[0m\n\u001b[1;32m   1019\u001b[0m     error_code \u001b[38;5;241m=\u001b[39m error_info\u001b[38;5;241m.\u001b[39mget(\u001b[38;5;124m\"\u001b[39m\u001b[38;5;124mQueryErrorCode\u001b[39m\u001b[38;5;124m\"\u001b[39m) \u001b[38;5;129;01mor\u001b[39;00m error_info\u001b[38;5;241m.\u001b[39mget(\n\u001b[1;32m   1020\u001b[0m         \u001b[38;5;124m\"\u001b[39m\u001b[38;5;124mCode\u001b[39m\u001b[38;5;124m\"\u001b[39m\n\u001b[1;32m   1021\u001b[0m     )\n\u001b[1;32m   1022\u001b[0m     error_class \u001b[38;5;241m=\u001b[39m \u001b[38;5;28mself\u001b[39m\u001b[38;5;241m.\u001b[39mexceptions\u001b[38;5;241m.\u001b[39mfrom_code(error_code)\n\u001b[0;32m-> 1023\u001b[0m     \u001b[38;5;28;01mraise\u001b[39;00m error_class(parsed_response, operation_name)\n\u001b[1;32m   1024\u001b[0m \u001b[38;5;28;01melse\u001b[39;00m:\n\u001b[1;32m   1025\u001b[0m     \u001b[38;5;28;01mreturn\u001b[39;00m parsed_response\n",
      "\u001b[0;31mModelError\u001b[0m: An error occurred (ModelError) when calling the InvokeEndpoint operation: Received client error (400) from primary with message \"{\n    \"error\": \"Failed to process element: 0 key: data of 'instances' list. Error: INVALID_ARGUMENT: JSON object: does not have named input: data\"\n}\". See https://eu-north-1.console.aws.amazon.com/cloudwatch/home?region=eu-north-1#logEventViewer:group=/aws/sagemaker/Endpoints/pneumonia-detection-endpoint in account 205930617574 for more information."
     ]
    }
   ],
   "source": [
    "import boto3\n",
    "import json\n",
    "import numpy as np\n",
    "from PIL import Image\n",
    "\n",
    "# Load the image\n",
    "image_path = 'sample_normal.jpeg'  # Update with the uploaded image path\n",
    "image = Image.open(image_path)\n",
    "\n",
    "# Convert to grayscale if needed\n",
    "if image.mode != 'L':  # 'L' is for grayscale\n",
    "    image = image.convert('L')\n",
    "\n",
    "image = image.resize((150, 150))  # Resize to match your model input size\n",
    "image_array = np.array(image) / 255.0  # Normalize if needed\n",
    "\n",
    "# Ensure the shape is (1, 150, 150, 1)\n",
    "image_array = image_array.reshape((1, 150, 150, 1)).tolist()  # Reshape for your model\n",
    "\n",
    "# Create SageMaker runtime client\n",
    "runtime_client = boto3.client('sagemaker-runtime', region_name='eu-north-1')\n",
    "\n",
    "# Invoke the endpoint\n",
    "response = runtime_client.invoke_endpoint(\n",
    "    EndpointName='pneumonia-detection-endpoint',\n",
    "    ContentType='application/json',\n",
    "    Body=json.dumps({'instances': [{'data': image_array}]})\n",
    ")\n",
    "\n",
    "# Read and print the response\n",
    "print(\"Response Status Code:\", response['ResponseMetadata']['HTTPStatusCode'])\n",
    "print(\"Response Body:\", response['Body'].read().decode())\n"
   ]
  },
  {
   "cell_type": "code",
   "execution_count": 36,
   "id": "a6f1fd59",
   "metadata": {},
   "outputs": [
    {
     "name": "stdout",
     "output_type": "stream",
     "text": [
      "1/1 [==============================] - 0s 32ms/step\n",
      "Prediction: [[0.8990011]]\n"
     ]
    }
   ],
   "source": [
    "import numpy as np\n",
    "from PIL import Image\n",
    "\n",
    "# Load the model (assuming it's already loaded)\n",
    "# loaded_model = load_model('your_model_path')\n",
    "\n",
    "# Load the image\n",
    "image_path = 'sample_normal.jpeg'  # Update with the actual image path\n",
    "image = Image.open(image_path)\n",
    "\n",
    "# Convert to grayscale if needed\n",
    "if image.mode != 'L':  # 'L' is for grayscale\n",
    "    image = image.convert('L')\n",
    "\n",
    "# Resize the image to match model input size\n",
    "image = image.resize((150, 150))\n",
    "\n",
    "# Convert to numpy array and normalize\n",
    "image_array = np.array(image) / 255.0  # Normalize if needed\n",
    "\n",
    "# Ensure the shape is (1, 150, 150, 1)\n",
    "image_array = image_array.reshape((1, 150, 150, 1))\n",
    "\n",
    "# Make the prediction\n",
    "prediction = loaded_model.predict(image_array)\n",
    "print(f\"Prediction: {prediction}\")\n"
   ]
  },
  {
   "cell_type": "code",
   "execution_count": 38,
   "id": "36992352",
   "metadata": {},
   "outputs": [
    {
     "name": "stdout",
     "output_type": "stream",
     "text": [
      "Model ARN: arn:aws:sagemaker:eu-north-1:205930617574:model/pneumonia-detection-model-v2\n",
      "Endpoint Config ARN: arn:aws:sagemaker:eu-north-1:205930617574:endpoint-config/pneumonia-detection-endpoint-config-v2\n",
      "Endpoint ARN: arn:aws:sagemaker:eu-north-1:205930617574:endpoint/pneumonia-detection-endpoint-v2\n"
     ]
    }
   ],
   "source": [
    "import boto3\n",
    "\n",
    "sagemaker_client = boto3.client('sagemaker', region_name='eu-north-1')\n",
    "model_data = 's3://pneumonia-detection-model-bucket/pneumonia_detection_saved_model/pneumonia_detection_saved_model.tar.gz'\n",
    "\n",
    "# creating sagemaker model\n",
    "model_name = 'pneumonia-detection-model-v2'\n",
    "\n",
    "create_model_response = sagemaker_client.create_model(\n",
    "    ModelName=model_name,\n",
    "    PrimaryContainer={\n",
    "        'Image': '763104351884.dkr.ecr.eu-north-1.amazonaws.com/tensorflow-inference:2.7.0-cpu',  # tf container\n",
    "        'ModelDataUrl': model_data,\n",
    "        'Environment': {\n",
    "            'SAGEMAKER_REGION': 'eu-north-1'\n",
    "        }\n",
    "    },\n",
    "    ExecutionRoleArn='arn:aws:iam::205930617574:role/PneumoniaDetection-SageMakerRole'  \n",
    ")\n",
    "\n",
    "print(f\"Model ARN: {create_model_response['ModelArn']}\")\n",
    "\n",
    "# creating endpoint config\n",
    "endpoint_config_name = 'pneumonia-detection-endpoint-config-v2'\n",
    "\n",
    "create_endpoint_config_response = sagemaker_client.create_endpoint_config(\n",
    "    EndpointConfigName=endpoint_config_name,\n",
    "    ProductionVariants=[{\n",
    "        'VariantName': 'AllTraffic',\n",
    "        'ModelName': model_name,\n",
    "        'InstanceType': 'ml.m5.large',  \n",
    "        'InitialInstanceCount': 1,\n",
    "        'InitialVariantWeight': 1\n",
    "    }]\n",
    ")\n",
    "\n",
    "print(f\"Endpoint Config ARN: {create_endpoint_config_response['EndpointConfigArn']}\")\n",
    "\n",
    "# deploy endpoint\n",
    "endpoint_name = 'pneumonia-detection-endpoint-v2'\n",
    "\n",
    "create_endpoint_response = sagemaker_client.create_endpoint(\n",
    "    EndpointName=endpoint_name,\n",
    "    EndpointConfigName=endpoint_config_name\n",
    ")\n",
    "\n",
    "print(f\"Endpoint ARN: {create_endpoint_response['EndpointArn']}\")\n"
   ]
  },
  {
   "cell_type": "code",
   "execution_count": null,
   "id": "2afc4686",
   "metadata": {},
   "outputs": [],
   "source": []
  }
 ],
 "metadata": {
  "kernelspec": {
   "display_name": "conda_tensorflow2_p310",
   "language": "python",
   "name": "conda_tensorflow2_p310"
  },
  "language_info": {
   "codemirror_mode": {
    "name": "ipython",
    "version": 3
   },
   "file_extension": ".py",
   "mimetype": "text/x-python",
   "name": "python",
   "nbconvert_exporter": "python",
   "pygments_lexer": "ipython3",
   "version": "3.10.14"
  }
 },
 "nbformat": 4,
 "nbformat_minor": 5
}
